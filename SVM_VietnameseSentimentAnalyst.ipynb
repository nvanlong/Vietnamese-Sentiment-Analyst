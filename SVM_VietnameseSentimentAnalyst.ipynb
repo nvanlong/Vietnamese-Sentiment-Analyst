{
  "nbformat": 4,
  "nbformat_minor": 0,
  "metadata": {
    "colab": {
      "name": "SVM_VietnameseSentimentAnalyst.ipynb",
      "provenance": [],
      "collapsed_sections": []
    },
    "kernelspec": {
      "name": "python3",
      "display_name": "Python 3"
    },
    "language_info": {
      "name": "python"
    },
    "accelerator": "GPU"
  },
  "cells": [
    {
      "cell_type": "code",
      "metadata": {
        "id": "5EJ5sNEvi8-n"
      },
      "source": [
        "! pip install underthesea"
      ],
      "execution_count": null,
      "outputs": []
    },
    {
      "cell_type": "code",
      "metadata": {
        "colab": {
          "base_uri": "https://localhost:8080/"
        },
        "id": "TU-rqM2euH0_",
        "outputId": "f0ecee9d-d316-4dfa-fc35-2aa5f2a652bd"
      },
      "source": [
        "from google.colab import drive\n",
        "drive.mount('/content/drive')"
      ],
      "execution_count": null,
      "outputs": [
        {
          "output_type": "stream",
          "name": "stdout",
          "text": [
            "Mounted at /content/drive\n"
          ]
        }
      ]
    },
    {
      "cell_type": "code",
      "metadata": {
        "id": "2AxMMRTqsnTA",
        "colab": {
          "base_uri": "https://localhost:8080/"
        },
        "outputId": "e202b910-ecdd-4007-9a83-095f01ec4715"
      },
      "source": [
        "#@title Import libery { run: \"auto\", display-mode: \"form\" }\n",
        "import numpy as np\n",
        "import pandas as pd\n",
        "import pylab as plt\n",
        "import matplotlib.pyplot as plt\n",
        "from sklearn.svm import SVC\n",
        "import os\n",
        "\n",
        "import tensorflow as tf\n",
        "from tensorflow import keras\n",
        "from keras.models import Sequential \n",
        "from keras.layers import Dense, Dropout, Flatten, Activation \n",
        "from keras.layers import Conv2D, MaxPooling2D, LSTM\n",
        "from keras.layers.embeddings import Embedding\n",
        "\n",
        "import codecs\n",
        "from underthesea import word_tokenize\n",
        "import nltk\n",
        "nltk.download('punkt')\n",
        "\n",
        "from tensorflow.keras import layers\n",
        "from tensorflow.keras import models\n",
        "import string\n",
        "from tensorflow.keras.preprocessing.text import Tokenizer \n",
        "from tensorflow.keras.preprocessing.sequence import pad_sequences\n",
        "\n",
        "from tensorflow.keras.utils import to_categorical\n",
        "from sklearn import preprocessing\n",
        "\n",
        "from sklearn.model_selection import train_test_split\n"
      ],
      "execution_count": null,
      "outputs": [
        {
          "output_type": "stream",
          "name": "stdout",
          "text": [
            "[nltk_data] Downloading package punkt to /root/nltk_data...\n",
            "[nltk_data]   Package punkt is already up-to-date!\n"
          ]
        }
      ]
    },
    {
      "cell_type": "code",
      "metadata": {
        "id": "PU4zG541t5Z7",
        "colab": {
          "base_uri": "https://localhost:8080/"
        },
        "outputId": "90129588-5f3e-4370-c2d4-582640577df1"
      },
      "source": [
        "cd '/content/drive/MyDrive/KHMT/HK1_2021-2022/TinhToanDaPhuongTien/SentimentAnalyst'"
      ],
      "execution_count": null,
      "outputs": [
        {
          "output_type": "stream",
          "name": "stdout",
          "text": [
            "/content/drive/MyDrive/KHMT/HK1_2021-2022/TinhToanDaPhuongTien/SentimentAnalyst\n"
          ]
        }
      ]
    },
    {
      "cell_type": "code",
      "metadata": {
        "id": "YpBo_zvStNb0"
      },
      "source": [
        "# Tạo stop word vi\n",
        "def create_stopwordlist():\n",
        "    f = codecs.open( 'data/vietnamese-stopwords.txt')\n",
        "    data = []\n",
        "    null_data = []\n",
        "    for i, line in enumerate(f):\n",
        "        line = repr(line)\n",
        "        line = line[1:len(line)-3]\n",
        "        data.append(line)\n",
        "    return data"
      ],
      "execution_count": null,
      "outputs": []
    },
    {
      "cell_type": "code",
      "metadata": {
        "colab": {
          "base_uri": "https://localhost:8080/",
          "height": 359
        },
        "id": "m4YSve4quiL5",
        "outputId": "b200dd1a-c07b-4d75-fcc4-fa56a9da7455"
      },
      "source": [
        "#https://www.kaggle.com/linhlpv/vietnamese-sentiment-analyst-base/data\n",
        "filename = 'data/data - data.csv'\n",
        "data = pd.read_csv(filename)\n",
        "\n",
        "data.head(10)"
      ],
      "execution_count": null,
      "outputs": [
        {
          "output_type": "execute_result",
          "data": {
            "text/html": [
              "<div>\n",
              "<style scoped>\n",
              "    .dataframe tbody tr th:only-of-type {\n",
              "        vertical-align: middle;\n",
              "    }\n",
              "\n",
              "    .dataframe tbody tr th {\n",
              "        vertical-align: top;\n",
              "    }\n",
              "\n",
              "    .dataframe thead th {\n",
              "        text-align: right;\n",
              "    }\n",
              "</style>\n",
              "<table border=\"1\" class=\"dataframe\">\n",
              "  <thead>\n",
              "    <tr style=\"text-align: right;\">\n",
              "      <th></th>\n",
              "      <th>comment</th>\n",
              "      <th>label</th>\n",
              "      <th>rate</th>\n",
              "      <th>Unnamed: 3</th>\n",
              "    </tr>\n",
              "  </thead>\n",
              "  <tbody>\n",
              "    <tr>\n",
              "      <th>0</th>\n",
              "      <td>Áo bao đẹp ạ!!</td>\n",
              "      <td>POS</td>\n",
              "      <td>5</td>\n",
              "      <td>NaN</td>\n",
              "    </tr>\n",
              "    <tr>\n",
              "      <th>1</th>\n",
              "      <td>Tuyệt vời !</td>\n",
              "      <td>POS</td>\n",
              "      <td>5</td>\n",
              "      <td>NaN</td>\n",
              "    </tr>\n",
              "    <tr>\n",
              "      <th>2</th>\n",
              "      <td>2day ao khong giong trong.</td>\n",
              "      <td>NEG</td>\n",
              "      <td>1</td>\n",
              "      <td>NaN</td>\n",
              "    </tr>\n",
              "    <tr>\n",
              "      <th>3</th>\n",
              "      <td>Mùi thơm,bôi lên da mềm da.</td>\n",
              "      <td>POS</td>\n",
              "      <td>5</td>\n",
              "      <td>NaN</td>\n",
              "    </tr>\n",
              "    <tr>\n",
              "      <th>4</th>\n",
              "      <td>Vải đẹp, dày dặn.</td>\n",
              "      <td>POS</td>\n",
              "      <td>5</td>\n",
              "      <td>NaN</td>\n",
              "    </tr>\n",
              "    <tr>\n",
              "      <th>5</th>\n",
              "      <td>Hàng rất đẹp, rất chi là ưng ý.</td>\n",
              "      <td>POS</td>\n",
              "      <td>5</td>\n",
              "      <td>NaN</td>\n",
              "    </tr>\n",
              "    <tr>\n",
              "      <th>6</th>\n",
              "      <td>Chất lượng sản phẩm tốt, date dài.</td>\n",
              "      <td>POS</td>\n",
              "      <td>5</td>\n",
              "      <td>NaN</td>\n",
              "    </tr>\n",
              "    <tr>\n",
              "      <th>7</th>\n",
              "      <td>Ăn nói và thái độ phục vụ tốt.</td>\n",
              "      <td>POS</td>\n",
              "      <td>4</td>\n",
              "      <td>NaN</td>\n",
              "    </tr>\n",
              "    <tr>\n",
              "      <th>8</th>\n",
              "      <td>Đóng gói sản phẩm chắc chắn.</td>\n",
              "      <td>POS</td>\n",
              "      <td>5</td>\n",
              "      <td>NaN</td>\n",
              "    </tr>\n",
              "    <tr>\n",
              "      <th>9</th>\n",
              "      <td>tất sờn hết ca chưa dùng mà vay r.</td>\n",
              "      <td>NEG</td>\n",
              "      <td>2</td>\n",
              "      <td>NaN</td>\n",
              "    </tr>\n",
              "  </tbody>\n",
              "</table>\n",
              "</div>"
            ],
            "text/plain": [
              "                              comment label  rate Unnamed: 3\n",
              "0                      Áo bao đẹp ạ!!   POS     5        NaN\n",
              "1                         Tuyệt vời !   POS     5        NaN\n",
              "2          2day ao khong giong trong.   NEG     1        NaN\n",
              "3         Mùi thơm,bôi lên da mềm da.   POS     5        NaN\n",
              "4                   Vải đẹp, dày dặn.   POS     5        NaN\n",
              "5     Hàng rất đẹp, rất chi là ưng ý.   POS     5        NaN\n",
              "6  Chất lượng sản phẩm tốt, date dài.   POS     5        NaN\n",
              "7      Ăn nói và thái độ phục vụ tốt.   POS     4        NaN\n",
              "8        Đóng gói sản phẩm chắc chắn.   POS     5        NaN\n",
              "9  tất sờn hết ca chưa dùng mà vay r.   NEG     2        NaN"
            ]
          },
          "metadata": {},
          "execution_count": 3
        }
      ]
    },
    {
      "cell_type": "code",
      "metadata": {
        "colab": {
          "base_uri": "https://localhost:8080/",
          "height": 320
        },
        "id": "fZsiKei0xaZx",
        "outputId": "1c1e50d5-5ebe-4ef4-bc6a-9748f676832c"
      },
      "source": [
        "data_label = data['rate']\n",
        "data_label = pd.DataFrame(data_label, columns=['rate']).groupby('rate').size()\n",
        "data_label.plot.pie(figsize=(5, 5), autopct=\"%.2f%%\", fontsize=12)"
      ],
      "execution_count": null,
      "outputs": [
        {
          "output_type": "execute_result",
          "data": {
            "text/plain": [
              "<matplotlib.axes._subplots.AxesSubplot at 0x7f7ea7f23810>"
            ]
          },
          "metadata": {},
          "execution_count": 5
        },
        {
          "output_type": "display_data",
          "data": {
            "image/png": "[encoded data removed]",
            "text/plain": [
              "<Figure size 360x360 with 1 Axes>"
            ]
          },
          "metadata": {}
        }
      ]
    },
    {
      "cell_type": "code",
      "metadata": {
        "colab": {
          "base_uri": "https://localhost:8080/",
          "height": 320
        },
        "id": "dl8F0CGtxw_u",
        "outputId": "ddf4ca1c-b1bf-4184-9563-fb5f60a32d3e"
      },
      "source": [
        "data_label = data['label']\n",
        "data_label = pd.DataFrame(data_label, columns=['label']).groupby('label').size()\n",
        "data_label.plot.pie(figsize=(5, 5), autopct=\"%.2f%%\", fontsize=12)"
      ],
      "execution_count": null,
      "outputs": [
        {
          "output_type": "execute_result",
          "data": {
            "text/plain": [
              "<matplotlib.axes._subplots.AxesSubplot at 0x7f7ea6e3ea50>"
            ]
          },
          "metadata": {},
          "execution_count": 6
        },
        {
          "output_type": "display_data",
          "data": {
            "image/png": "[encoded data removed]",
            "text/plain": [
              "<Figure size 360x360 with 1 Axes>"
            ]
          },
          "metadata": {}
        }
      ]
    },
    {
      "cell_type": "code",
      "metadata": {
        "colab": {
          "base_uri": "https://localhost:8080/"
        },
        "id": "EDdnyopUywse",
        "outputId": "4690c5de-1a04-42e4-ae43-3453153cc224"
      },
      "source": [
        "data = data.values\n",
        "print(data.shape)\n",
        "comment = data[:,0]\n",
        "label = data[:,1]\n",
        "rate = data[:,2]\n",
        "print(comment[:5])\n",
        "print(label[:20])\n",
        "print(rate[:20])"
      ],
      "execution_count": null,
      "outputs": [
        {
          "output_type": "stream",
          "name": "stdout",
          "text": [
            "(31460, 4)\n",
            "['Áo bao đẹp ạ!!' 'Tuyệt vời !' '2day ao khong giong trong.'\n",
            " 'Mùi thơm,bôi lên da mềm da.' 'Vải đẹp, dày dặn.']\n",
            "['POS' 'POS' 'NEG' 'POS' 'POS' 'POS' 'POS' 'POS' 'POS' 'NEG' 'POS' 'NEU'\n",
            " 'POS' 'POS' 'POS' 'POS' 'POS' 'POS' 'POS' 'NEG']\n",
            "[5 5 1 5 5 5 5 4 5 2 5 3 5 5 4 5 4 5 5 2]\n"
          ]
        }
      ]
    },
    {
      "cell_type": "code",
      "metadata": {
        "colab": {
          "base_uri": "https://localhost:8080/"
        },
        "id": "IVrxMJ_Ezu7e",
        "outputId": "b80c95c9-033a-45e7-8384-c8faa5fa64ee"
      },
      "source": [
        "sentences = [nltk.word_tokenize(sent) for sent in comment]\n",
        "print(sentences[:1])"
      ],
      "execution_count": null,
      "outputs": [
        {
          "output_type": "stream",
          "name": "stdout",
          "text": [
            "[['Áo', 'bao', 'đẹp', 'ạ', '!', '!']]\n"
          ]
        }
      ]
    },
    {
      "cell_type": "code",
      "metadata": {
        "id": "CabXhRI21KqP"
      },
      "source": [
        "tokenizer = Tokenizer()\n",
        "tokenizer.fit_on_texts(sentences)\n",
        "# kiểm tra từ điểm tạo trong tokenizer\n",
        "#print(tokenizer.word_index)"
      ],
      "execution_count": null,
      "outputs": []
    },
    {
      "cell_type": "code",
      "metadata": {
        "colab": {
          "base_uri": "https://localhost:8080/"
        },
        "id": "eQPtEL4J7IW6",
        "outputId": "0a96cda0-b684-415b-a2ea-81d8d38ac5e4"
      },
      "source": [
        "#texts_to_matrix(tokenizer, texts, mode = c(\"binary\", \"count\", \"tfidf\", \"freq\"))\n",
        "X = tokenizer.texts_to_matrix(sentences,mode='tfidf')\n",
        "print('binary: ',X)"
      ],
      "execution_count": null,
      "outputs": [
        {
          "output_type": "stream",
          "name": "stdout",
          "text": [
            "tfidf:  [[0.         0.         0.         ... 0.         0.         0.        ]\n",
            " [0.         0.         0.         ... 0.         0.         0.        ]\n",
            " [0.         0.7230051  0.         ... 0.         0.         0.        ]\n",
            " ...\n",
            " [0.         0.7230051  0.         ... 0.         0.         0.        ]\n",
            " [0.         0.7230051  0.         ... 0.         0.         0.        ]\n",
            " [0.         0.         1.62883947 ... 0.         0.         0.        ]]\n"
          ]
        }
      ]
    },
    {
      "cell_type": "code",
      "metadata": {
        "id": "HHOYwshVv58m"
      },
      "source": [
        "'''tokenizer = tf.keras.preprocessing.text.Tokenizer(lower=True,split=' ')\n",
        "tokenizer.fit_on_texts(sentences)\n",
        "X = tokenizer.texts_to_sequences(sentences)\n",
        "X = pad_sequences(X)\n",
        "print(X[:5])"
      ],
      "execution_count": null,
      "outputs": []
    },
    {
      "cell_type": "code",
      "metadata": {
        "colab": {
          "base_uri": "https://localhost:8080/"
        },
        "id": "JEh2HcrO7k-l",
        "outputId": "359b92b3-c354-4a52-a83e-6d0a071e8f59"
      },
      "source": [
        "#Encode labels ở True_label 1,2,3,4,5 tương ứng thành 0,1,2,3,4\n",
        "\n",
        "le = preprocessing.LabelEncoder()\n",
        "label = le.fit_transform(label)\n",
        "print(label)"
      ],
      "execution_count": null,
      "outputs": [
        {
          "output_type": "stream",
          "name": "stdout",
          "text": [
            "[2 2 0 ... 2 2 2]\n"
          ]
        }
      ]
    },
    {
      "cell_type": "code",
      "metadata": {
        "colab": {
          "base_uri": "https://localhost:8080/"
        },
        "id": "bmw8I4eS8bue",
        "outputId": "b09d3b22-d254-4107-9491-54ac0c0d6d0b"
      },
      "source": [
        "list(le.inverse_transform([0, 1, 2]))"
      ],
      "execution_count": null,
      "outputs": [
        {
          "output_type": "execute_result",
          "data": {
            "text/plain": [
              "['NEG', 'NEU', 'POS']"
            ]
          },
          "metadata": {},
          "execution_count": 15
        }
      ]
    },
    {
      "cell_type": "code",
      "metadata": {
        "id": "38Yt5vnys8G4"
      },
      "source": [
        "Y = tf.keras.utils.to_categorical(label)"
      ],
      "execution_count": null,
      "outputs": []
    },
    {
      "cell_type": "code",
      "metadata": {
        "id": "hWzyG4K-8iq6"
      },
      "source": [
        "X_train, X_test, y_train, y_test = train_test_split(X, label, \n",
        "                                            test_size=0.2, random_state=36)"
      ],
      "execution_count": null,
      "outputs": []
    },
    {
      "cell_type": "code",
      "metadata": {
        "colab": {
          "base_uri": "https://localhost:8080/"
        },
        "id": "iyEAKuBE8sje",
        "outputId": "82a75ec2-449e-445b-e3c6-dd079e6281b6"
      },
      "source": [
        "print(X_train.shape)\n",
        "print(X_test.shape)\n",
        "print(y_train[:2])"
      ],
      "execution_count": null,
      "outputs": [
        {
          "output_type": "stream",
          "name": "stdout",
          "text": [
            "(25168, 8782)\n",
            "(6292, 8782)\n",
            "[2 0]\n"
          ]
        }
      ]
    },
    {
      "cell_type": "code",
      "metadata": {
        "colab": {
          "base_uri": "https://localhost:8080/"
        },
        "id": "Ua-DMjy51HpF",
        "outputId": "767c967c-ece0-4754-ef42-a0227dd92dec"
      },
      "source": [
        "from sklearn import svm\n",
        "model = svm.SVC()\n",
        "model.fit(X_train,y_train)"
      ],
      "execution_count": null,
      "outputs": [
        {
          "output_type": "execute_result",
          "data": {
            "text/plain": [
              "SVC(C=1.0, break_ties=False, cache_size=200, class_weight=None, coef0=0.0,\n",
              "    decision_function_shape='ovr', degree=3, gamma='scale', kernel='rbf',\n",
              "    max_iter=-1, probability=False, random_state=None, shrinking=True,\n",
              "    tol=0.001, verbose=False)"
            ]
          },
          "metadata": {},
          "execution_count": 10
        }
      ]
    },
    {
      "cell_type": "code",
      "metadata": {
        "id": "zfw-Tb2TDy41"
      },
      "source": [
        "# save the model\n",
        "import pickle\n",
        "\n",
        "filename = 'model_svm.pkl'\n",
        "pickle.dump(model, open(filename, \"wb\"))\n",
        "\n",
        "# load the model\n",
        "model = pickle.load(open(filename, \"rb\"))\n",
        "\n",
        "# use model to predict\n",
        "#y_pred = model.predict(X_input)"
      ],
      "execution_count": null,
      "outputs": []
    },
    {
      "cell_type": "code",
      "metadata": {
        "id": "g6iB28ygiveQ"
      },
      "source": [
        "y_pred = model.predict(X_test)"
      ],
      "execution_count": null,
      "outputs": []
    },
    {
      "cell_type": "code",
      "metadata": {
        "colab": {
          "base_uri": "https://localhost:8080/"
        },
        "id": "rDgMp8dirSa4",
        "outputId": "2c3fbdd6-fadb-4f5f-af5d-77371be5569e"
      },
      "source": [
        "from sklearn.metrics import classification_report\n",
        "print(classification_report(y_test,y_pred))"
      ],
      "execution_count": null,
      "outputs": [
        {
          "output_type": "stream",
          "name": "stdout",
          "text": [
            "              precision    recall  f1-score   support\n",
            "\n",
            "           0       0.71      0.73      0.72      1373\n",
            "           1       0.48      0.15      0.23       925\n",
            "           2       0.82      0.95      0.88      3994\n",
            "\n",
            "    accuracy                           0.78      6292\n",
            "   macro avg       0.67      0.61      0.61      6292\n",
            "weighted avg       0.75      0.78      0.75      6292\n",
            "\n"
          ]
        }
      ]
    },
    {
      "cell_type": "code",
      "metadata": {
        "id": "M-ndjB2BplnM"
      },
      "source": [
        "#Test du lieu ben ngoai\n",
        "def pre_process(review):\n",
        "    filename = 'data/data - data.csv'\n",
        "    data = pd.read_csv(filename, encoding='utf-8')\n",
        "    data.comment[0] = review\n",
        "    \n",
        "    sentences = [nltk.word_tokenize(sent) for sent in data.comment]\n",
        "\n",
        "    tokenizer = Tokenizer()\n",
        "    tokenizer.fit_on_texts(sentences)\n",
        "    X = tokenizer.texts_to_matrix(sentences,mode='tfidf')\n",
        "    \n",
        "    return X[:1]"
      ],
      "execution_count": null,
      "outputs": []
    },
    {
      "cell_type": "code",
      "metadata": {
        "colab": {
          "base_uri": "https://localhost:8080/"
        },
        "id": "LAMdEXDnrsKK",
        "outputId": "ee73bcf6-f84c-4082-973e-caa0ab6ab583"
      },
      "source": [
        "review = 'tất sờn hết ca chưa dùng mà vay r'\n",
        "review = pre_process(review)\n",
        "print(review)"
      ],
      "execution_count": null,
      "outputs": [
        {
          "output_type": "stream",
          "name": "stderr",
          "text": [
            "/usr/local/lib/python3.7/dist-packages/ipykernel_launcher.py:5: SettingWithCopyWarning: \n",
            "A value is trying to be set on a copy of a slice from a DataFrame\n",
            "\n",
            "See the caveats in the documentation: https://pandas.pydata.org/pandas-docs/stable/user_guide/indexing.html#returning-a-view-versus-a-copy\n",
            "  \"\"\"\n"
          ]
        },
        {
          "output_type": "stream",
          "name": "stdout",
          "text": [
            "[[0. 0. 0. ... 0. 0. 0.]]\n"
          ]
        }
      ]
    },
    {
      "cell_type": "code",
      "metadata": {
        "colab": {
          "base_uri": "https://localhost:8080/"
        },
        "id": "jOjiUBhFrxG1",
        "outputId": "6c27c132-9204-4c16-a60e-8103c9f5a94f"
      },
      "source": [
        "result = model.predict(review)\n",
        "pre = np.argmax(result)\n",
        "print(\"Label predict: \", pre)"
      ],
      "execution_count": null,
      "outputs": [
        {
          "output_type": "stream",
          "name": "stdout",
          "text": [
            "Label predict:  0\n"
          ]
        }
      ]
    },
    {
      "cell_type": "code",
      "metadata": {
        "colab": {
          "base_uri": "https://localhost:8080/"
        },
        "id": "8DtXFze7shpA",
        "outputId": "52af73ad-25fa-4161-9dd4-48106eaa6bf5"
      },
      "source": [
        "review = 'Hàng rất đẹp, rất chi là ưng ý.'\n",
        "review = pre_process(review)\n",
        "#print(review)\n",
        "\n",
        "result = model.predict(review)\n",
        "\n",
        "pre = np.argmax(result)\n",
        "print(\"Label predict: \", pre)"
      ],
      "execution_count": null,
      "outputs": [
        {
          "output_type": "stream",
          "name": "stderr",
          "text": [
            "/usr/local/lib/python3.7/dist-packages/ipykernel_launcher.py:5: SettingWithCopyWarning: \n",
            "A value is trying to be set on a copy of a slice from a DataFrame\n",
            "\n",
            "See the caveats in the documentation: https://pandas.pydata.org/pandas-docs/stable/user_guide/indexing.html#returning-a-view-versus-a-copy\n",
            "  \"\"\"\n"
          ]
        },
        {
          "output_type": "stream",
          "name": "stdout",
          "text": [
            "Label predict:  0\n"
          ]
        }
      ]
    },
    {
      "cell_type": "code",
      "metadata": {
        "colab": {
          "base_uri": "https://localhost:8080/"
        },
        "id": "G-phrWuNslEn",
        "outputId": "a430b7aa-f276-4785-c1e3-6f89b966f221"
      },
      "source": [
        "review = 'Quá đỉnh, cảnh quan rất tuyệt vời.'\n",
        "review = pre_process(review)\n",
        "#print(review)\n",
        "\n",
        "result = model.predict(review)\n",
        "\n",
        "pre = np.argmax(result)\n",
        "print(\"Label predict: \", pre)"
      ],
      "execution_count": null,
      "outputs": [
        {
          "output_type": "stream",
          "name": "stderr",
          "text": [
            "/usr/local/lib/python3.7/dist-packages/ipykernel_launcher.py:5: SettingWithCopyWarning: \n",
            "A value is trying to be set on a copy of a slice from a DataFrame\n",
            "\n",
            "See the caveats in the documentation: https://pandas.pydata.org/pandas-docs/stable/user_guide/indexing.html#returning-a-view-versus-a-copy\n",
            "  \"\"\"\n"
          ]
        }
      ]
    },
    {
      "cell_type": "code",
      "metadata": {
        "id": "ezFx2DJFssyV"
      },
      "source": [
        ""
      ],
      "execution_count": null,
      "outputs": []
    }
  ]
}